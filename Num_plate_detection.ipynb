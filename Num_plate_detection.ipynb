{
  "nbformat": 4,
  "nbformat_minor": 0,
  "metadata": {
    "colab": {
      "name": "Num_plate_detection.ipynb",
      "provenance": []
    },
    "kernelspec": {
      "name": "python3",
      "display_name": "Python 3"
    },
    "language_info": {
      "name": "python"
    }
  },
  "cells": [
    {
      "cell_type": "code",
      "execution_count": null,
      "metadata": {
        "id": "rz-nOECUgrPu"
      },
      "outputs": [],
      "source": [
        "! git clone https://github.com/ultralytics/yolov5 \n",
        "! pip install -r yolov5/requirements.txt\n",
        "! pip install gradio\n",
        "! sudo apt install tesseract-ocr\n",
        "! pip install pytesseract"
      ]
    },
    {
      "cell_type": "code",
      "source": [
        "import pytesseract\n",
        "import os\n",
        "def make_rect(img,model):\n",
        "  df=pd.DataFrame(columns=['Number_plate'])\n",
        "  results = model(img)\n",
        "  data=results.pandas().xyxy[0]\n",
        "  new_img=img\n",
        "  for i in range(len(data.index)):\n",
        "    new_img=cv2.rectangle(new_img,(int(data.iloc[i].xmin),int(data.iloc[i].ymax)),(int(data.iloc[i].xmax),int(data.iloc[i].ymin)),(255,0,0),2)\n",
        "    num_plt=new_img[int(data.iloc[i].ymin):int(data.iloc[i].ymax),int(data.iloc[i].xmin):int(data.iloc[i].xmax)]\n",
        "    num_plt=cv2.cvtColor(num_plt,cv2.COLOR_BGR2GRAY)\n",
        "    text=pytesseract.image_to_string(num_plt)\n",
        "    text=text.replace('\\n','')\n",
        "    if text not in df.Number_plate.to_list() and text!= '\\x0c':\n",
        "      x={'Number_plate':text}\n",
        "      df=df.append(x, ignore_index=True)\n",
        "      if os.path.exists('/content/data.csv'):\n",
        "        df1=pd.read_csv('/content/data.csv')\n",
        "        df2=pd.concat([df1,df],ignore_index=True)\n",
        "        df2.reset_index()\n",
        "        os.remove('/content/data.csv')\n",
        "      else:\n",
        "        df2=df\n",
        "      \n",
        "      df2.to_csv('/content/data.csv',index=False)\n",
        "    new_img=cv2.putText(new_img, text,[int(data.iloc[i].xmin),int(data.iloc[i].ymin)],cv2.FONT_HERSHEY_SIMPLEX, 1, (255,0,0), 2)\n",
        "  return new_img"
      ],
      "metadata": {
        "id": "Whgn5v0ag29b"
      },
      "execution_count": null,
      "outputs": []
    },
    {
      "cell_type": "code",
      "source": [
        "import cv2\n",
        "import torch\n",
        "import matplotlib.pyplot as plt\n",
        "%matplotlib inline\n",
        "import numpy as np\n",
        "import pandas as pd\n",
        "model = torch.hub.load('ultralytics/yolov5', 'custom' ,'/content/best.pt')\n",
        "def func(vid_path):\n",
        "  i=0\n",
        "  vid=cv2.VideoCapture(vid_path)\n",
        "  output = cv2.VideoWriter('/content/output.mp4', cv2.VideoWriter_fourcc(*'XVID'), 20, (int(vid.get(3)),int(vid.get(4))))\n",
        "  while(vid.isOpened()):\n",
        "    ret,frame=vid.read()\n",
        "    \n",
        "    if ret==False or i==100:\n",
        "      break\n",
        "    print(f\"frame {i}\")\n",
        "    frame=cv2.cvtColor(frame, cv2.COLOR_BGR2RGB)\n",
        "    new_frame=[]\n",
        "    new_frame.append(make_rect(frame[0:int(np.shape(frame)[0]/2),0:int(np.shape(frame)[1]/2)],model))\n",
        "    new_frame.append(make_rect(frame[0:int(np.shape(frame)[0]/2),int(np.shape(frame)[1]/2):int(np.shape(frame)[1])],model))\n",
        "    new_frame.append(make_rect(frame[int(np.shape(frame)[0]/2):int(np.shape(frame)[0]),0:int(np.shape(frame)[1]/2)],model))\n",
        "    new_frame.append(make_rect(frame[int(np.shape(frame)[0]/2):int(np.shape(frame)[0]),int(np.shape(frame)[1]/2):int(np.shape(frame)[1])],model))\n",
        "    fin_frame=cv2.vconcat([cv2.hconcat([new_frame[0],new_frame[1]]),cv2.hconcat([new_frame[2],new_frame[3]])])\n",
        "    fin_frame=cv2.cvtColor(fin_frame,cv2.COLOR_BGR2RGB)\n",
        "    output.write(fin_frame)\n",
        "    i+=1\n",
        "  vid.release()\n",
        "  output.release()\n",
        "  print(\"vid released\")\n",
        "  return '/content/output.mp4'"
      ],
      "metadata": {
        "id": "CWs3F6t1g4m2"
      },
      "execution_count": null,
      "outputs": []
    },
    {
      "cell_type": "code",
      "source": [
        "import gradio as gr\n",
        "v=gr.Interface(func,gr.Video(),\"playable_video\")\n",
        "v.launch(debug=True)"
      ],
      "metadata": {
        "id": "M75fdEU6g69g"
      },
      "execution_count": null,
      "outputs": []
    }
  ]
}